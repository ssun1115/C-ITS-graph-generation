{
 "cells": [
  {
   "attachments": {},
   "cell_type": "markdown",
   "metadata": {},
   "source": [
    "# Edge-weighted Directed Graph Random Generation"
   ]
  },
  {
   "attachments": {},
   "cell_type": "markdown",
   "metadata": {},
   "source": [
    "### Graph Generation Function"
   ]
  },
  {
   "cell_type": "code",
   "execution_count": 26,
   "metadata": {},
   "outputs": [
    {
     "name": "stdout",
     "output_type": "stream",
     "text": [
      "Nodes: [0, 1, 2, 3, 4]\n",
      "Edges:\n",
      "(0, 3, {'weight': 10})\n",
      "(0, 1, {'weight': 7})\n",
      "(1, 0, {'weight': 4})\n",
      "(1, 2, {'weight': 7})\n",
      "(2, 1, {'weight': 1})\n",
      "(2, 3, {'weight': 8})\n",
      "(2, 4, {'weight': 3})\n",
      "(3, 2, {'weight': 8})\n",
      "(3, 1, {'weight': 2})\n",
      "(4, 3, {'weight': 9})\n"
     ]
    }
   ],
   "source": [
    "import random\n",
    "import networkx as nx\n",
    "from graphviz import Digraph\n",
    "import networkx as nx\n",
    "\n",
    "def generate_random_weighted_graph(num_nodes, num_edges, max_weight=10):\n",
    "    # 방향 그래프 생성\n",
    "    graph = nx.DiGraph()\n",
    "    \n",
    "    # 노드 추가\n",
    "    nodes = range(num_nodes)\n",
    "    graph.add_nodes_from(nodes)\n",
    "    \n",
    "    # 간선 추가\n",
    "    edges = []\n",
    "    for i in range(num_edges):\n",
    "        # 임의의 출발 노드와 도착 노드 선택\n",
    "        source = random.choice(nodes)\n",
    "        target = random.choice(nodes)\n",
    "        \n",
    "        # 출발 노드와 도착 노드가 같은 경우 건너뜀\n",
    "        if source == target:\n",
    "            continue\n",
    "        \n",
    "        # 가중치 랜덤 생성\n",
    "        weight = random.randint(1, max_weight)\n",
    "        \n",
    "        # 간선 추가\n",
    "        edges.append((source, target, weight))\n",
    "        \n",
    "    graph.add_weighted_edges_from(edges)\n",
    "    \n",
    "    return graph\n",
    "\n",
    "# 예시: 5개의 노드와 10개의 간선을 가진 가중치가 할당된 방향 그래프 생성\n",
    "random_graph = generate_random_weighted_graph(5, 15)\n",
    "\n",
    "# 그래프 정보 출력\n",
    "print(\"Nodes:\", random_graph.nodes())\n",
    "print(\"Edges:\")\n",
    "for edge in random_graph.edges(data=True):\n",
    "    print(edge)\n"
   ]
  },
  {
   "attachments": {},
   "cell_type": "markdown",
   "metadata": {},
   "source": [
    "### Generate graphs and save graphs in files"
   ]
  },
  {
   "cell_type": "code",
   "execution_count": 17,
   "metadata": {},
   "outputs": [
    {
     "name": "stdout",
     "output_type": "stream",
     "text": [
      "랜덤 그래프 10000개가 random_graphs.pkl에 저장되었습니다.\n"
     ]
    }
   ],
   "source": [
    "import pickle\n",
    "import numpy as np\n",
    "\n",
    "num_graphs = 10000\n",
    "output_file = 'random_graphs.pkl'\n",
    "\n",
    "graphs = []\n",
    "\n",
    "for _ in range(num_graphs):\n",
    "    num_nodes, num_edges, max_weight = np.random.randint(20), np.random.randint(30), np.random.randint(30)\n",
    "    graphs.append(generate_random_weighted_graph(5, 15))\n",
    "\n",
    "# 그래프를 pickle 파일로 저장\n",
    "with open(output_file, 'wb') as f:\n",
    "    pickle.dump(graphs, f)\n",
    "\n",
    "print(f\"랜덤 그래프 {num_graphs}개가 {output_file}에 저장되었습니다.\")"
   ]
  },
  {
   "attachments": {},
   "cell_type": "markdown",
   "metadata": {},
   "source": [
    "### Visualization"
   ]
  },
  {
   "cell_type": "code",
   "execution_count": 20,
   "metadata": {},
   "outputs": [
    {
     "data": {
      "text/plain": [
       "'weighted_digraph.gv.pdf'"
      ]
     },
     "execution_count": 20,
     "metadata": {},
     "output_type": "execute_result"
    }
   ],
   "source": [
    "def draw_weighted_digraph(graph):\n",
    "    dot = Digraph()\n",
    "\n",
    "    for node in graph.nodes():\n",
    "        dot.node(str(node))\n",
    "\n",
    "    for edge in graph.edges(data=True):\n",
    "        source, target, weight = edge\n",
    "        dot.edge(str(source), str(target), label=str(weight))\n",
    "\n",
    "    dot.render('weighted_digraph.gv', view=True)\n",
    "    return dot\n",
    "\n",
    "# 그래프 불러오기\n",
    "with open(output_file,\"rb\") as fr:\n",
    "    data = pickle.load(fr)\n",
    "\n",
    "# 그래프 시각화\n",
    "digraph = draw_weighted_digraph(data[3])\n",
    "digraph.view()"
   ]
  }
 ],
 "metadata": {
  "kernelspec": {
   "display_name": "pytorch",
   "language": "python",
   "name": "python3"
  },
  "language_info": {
   "codemirror_mode": {
    "name": "ipython",
    "version": 3
   },
   "file_extension": ".py",
   "mimetype": "text/x-python",
   "name": "python",
   "nbconvert_exporter": "python",
   "pygments_lexer": "ipython3",
   "version": "3.7.16"
  },
  "orig_nbformat": 4
 },
 "nbformat": 4,
 "nbformat_minor": 2
}
