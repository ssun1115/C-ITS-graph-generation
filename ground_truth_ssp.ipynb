{
 "cells": [
  {
   "attachments": {},
   "cell_type": "markdown",
   "metadata": {},
   "source": [
    "### Load Graph Data"
   ]
  },
  {
   "cell_type": "code",
   "execution_count": 3,
   "metadata": {},
   "outputs": [],
   "source": [
    "import pickle\n",
    "import numpy as np"
   ]
  },
  {
   "cell_type": "code",
   "execution_count": 4,
   "metadata": {},
   "outputs": [],
   "source": [
    "# 저장된 그래프 파일 로드\n",
    "input_file = 'random_undirected_graphs.pkl'\n",
    "with open(input_file, 'rb') as f:\n",
    "    graphs = pickle.load(f)"
   ]
  },
  {
   "attachments": {},
   "cell_type": "markdown",
   "metadata": {},
   "source": [
    "### Initialize"
   ]
  },
  {
   "cell_type": "code",
   "execution_count": 38,
   "metadata": {},
   "outputs": [],
   "source": [
    "INF = int(1e9)\n",
    "start = int(input()) # 시작노드 입력\n",
    "n = len(graphs[0].nodes())\n",
    "visited = [False] * (n+1)\n",
    "distance = [INF] * (n+1)\n",
    "\n",
    "graph = graphs[0] # 샘플그래프"
   ]
  },
  {
   "attachments": {},
   "cell_type": "markdown",
   "metadata": {},
   "source": [
    "### Dijkstra Algorithm"
   ]
  },
  {
   "cell_type": "code",
   "execution_count": 37,
   "metadata": {},
   "outputs": [
    {
     "name": "stdout",
     "output_type": "stream",
     "text": [
      "All shortest paths from 1:  {1: [1], 2: [1, 2], 4: [1, 2, 4], 3: [1, 2, 3], 0: [1, 2, 3, 0]}\n"
     ]
    }
   ],
   "source": [
    "import networkx as nx\n",
    "\n",
    "def dijkstra(graph):\n",
    "    # 시작 노드로부터 다른 모든노드까지의 최단경로\n",
    "    ssh_to_all = nx.shortest_path(graph, source=1, weight=\"weight\") # 시작노드는 임의로 1로 설정해둠 (추후 논의 후 변경)\n",
    "    \n",
    "    # 시작 노드로부터 타겟노드까지의 최단경로 (필요할 경우 사용)\n",
    "    #ssh_to_target = nx.shortest_path(graph, source=1, target=4, weight=\"weight\")\n",
    "    \n",
    "    # 시작 노드로부터 타겟노드까지의 최단거리 (필요할 경우 사용)\n",
    "    #length_to_target = nx.shortest_path_length(graph, source=1, target=4, weight=\"weight\")\n",
    "    \n",
    "    print(\"All shortest paths from 1: \", ssh_to_all)\n",
    "    #print(\"Shortest path from 1 to 6: \", ssh_to_target)\n",
    "    #print(\"Length of the shortest path: \", length_to_target)\n",
    "\n",
    "dijkstra(graph)"
   ]
  },
  {
   "attachments": {},
   "cell_type": "markdown",
   "metadata": {},
   "source": [
    "### Floyd-Warshall Algorithm"
   ]
  },
  {
   "cell_type": "code",
   "execution_count": 39,
   "metadata": {},
   "outputs": [
    {
     "name": "stdout",
     "output_type": "stream",
     "text": [
      "start from 0 : {0: 0, 4: 9, 3: 10, 1: 15, 2: 13}\n",
      "start from 1 : {1: 0, 2: 2, 4: 6, 0: 15, 3: 25}\n",
      "start from 2 : {2: 0, 1: 2, 4: 4, 0: 13, 3: 23}\n",
      "start from 3 : {3: 0, 0: 10, 1: 25, 2: 23, 4: 19}\n",
      "start from 4 : {4: 0, 0: 9, 1: 6, 2: 4, 3: 19}\n"
     ]
    }
   ],
   "source": [
    "def floyd_warshall(graph):\n",
    "    fw = nx.floyd_warshall(graph, weight='weight')\n",
    "    results = {a:dict(b) for a,b in fw.items()} \n",
    "    \n",
    "    for i in range(len(results)):\n",
    "        print(f'start from {i} : {results[i]}')\n",
    "\n",
    "floyd_warshall(graph)"
   ]
  },
  {
   "attachments": {},
   "cell_type": "markdown",
   "metadata": {},
   "source": [
    "### Bellman-Ford Algorithm"
   ]
  },
  {
   "cell_type": "code",
   "execution_count": 46,
   "metadata": {},
   "outputs": [
    {
     "name": "stdout",
     "output_type": "stream",
     "text": [
      "{1: [1], 2: [1, 2], 4: [1, 4], 0: [1, 4, 0], 3: [1, 4, 0, 3]}\n"
     ]
    }
   ],
   "source": [
    "def bellman_ford(graph):\n",
    "    path = nx.shortest_path(graph, source=1, target=None, weight=None, method='bellman-ford')\n",
    "    print(path)\n",
    "\n",
    "bellman_ford(graph)"
   ]
  }
 ],
 "metadata": {
  "kernelspec": {
   "display_name": "pytorch",
   "language": "python",
   "name": "python3"
  },
  "language_info": {
   "codemirror_mode": {
    "name": "ipython",
    "version": 3
   },
   "file_extension": ".py",
   "mimetype": "text/x-python",
   "name": "python",
   "nbconvert_exporter": "python",
   "pygments_lexer": "ipython3",
   "version": "3.7.16"
  },
  "orig_nbformat": 4
 },
 "nbformat": 4,
 "nbformat_minor": 2
}
